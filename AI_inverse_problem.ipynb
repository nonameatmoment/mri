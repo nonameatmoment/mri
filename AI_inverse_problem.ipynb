{
  "nbformat": 4,
  "nbformat_minor": 0,
  "metadata": {
    "colab": {
      "provenance": []
    },
    "kernelspec": {
      "name": "python3",
      "display_name": "Python 3"
    },
    "language_info": {
      "name": "python"
    }
  },
  "cells": [
    {
      "cell_type": "code",
      "source": [
        "from google.colab import drive\n",
        "drive.mount('/content/drive')"
      ],
      "metadata": {
        "id": "srIH_N4gbTzX"
      },
      "execution_count": null,
      "outputs": []
    },
    {
      "cell_type": "code",
      "source": [
        "!git clone https://github.com/nonameatmoment/mri.git"
      ],
      "metadata": {
        "colab": {
          "base_uri": "https://localhost:8080/"
        },
        "id": "XPv_5EO_bHHB",
        "outputId": "cae444e0-a47a-4740-de35-c7abf7fac382"
      },
      "execution_count": null,
      "outputs": [
        {
          "output_type": "stream",
          "name": "stdout",
          "text": [
            "Cloning into 'mri'...\n",
            "remote: Enumerating objects: 205, done.\u001b[K\n",
            "remote: Total 205 (delta 0), reused 0 (delta 0), pack-reused 205\u001b[K\n",
            "Receiving objects: 100% (205/205), 54.67 MiB | 14.26 MiB/s, done.\n",
            "Resolving deltas: 100% (110/110), done.\n",
            "Updating files: 100% (57/57), done.\n"
          ]
        }
      ]
    },
    {
      "cell_type": "code",
      "source": [
        "cd mri"
      ],
      "metadata": {
        "colab": {
          "base_uri": "https://localhost:8080/"
        },
        "id": "4rtdsF3QbQfn",
        "outputId": "026fd5f5-d957-42bd-d90a-f0f034eee71f"
      },
      "execution_count": null,
      "outputs": [
        {
          "output_type": "stream",
          "name": "stdout",
          "text": [
            "/content/drive/MyDrive/MRI/mri\n"
          ]
        }
      ]
    },
    {
      "cell_type": "code",
      "source": [
        "#Dataset\n",
        "add this link as a shortcut to your drive:\n",
        "https://drive.google.com/u/0/uc?id=1qp-l9kJbRfQU1W5wCjOQZi7I3T6jwA37&export=download"
      ],
      "metadata": {
        "colab": {
          "base_uri": "https://localhost:8080/"
        },
        "id": "DTbSIb-Lpzba",
        "outputId": "1a66321b-7bd4-4b07-e1e7-4f2b81e79843"
      },
      "execution_count": 95,
      "outputs": [
        {
          "output_type": "stream",
          "name": "stdout",
          "text": [
            "--2023-05-21 14:14:26--  https://drive.google.com/u/0/uc?id=1qp-l9kJbRfQU1W5wCjOQZi7I3T6jwA37\n",
            "Resolving drive.google.com (drive.google.com)... 142.251.16.102, 142.251.16.113, 142.251.16.138, ...\n",
            "Connecting to drive.google.com (drive.google.com)|142.251.16.102|:443... connected.\n",
            "HTTP request sent, awaiting response... 302 Found\n",
            "Location: https://drive.google.com/uc?id=1qp-l9kJbRfQU1W5wCjOQZi7I3T6jwA37 [following]\n",
            "--2023-05-21 14:14:26--  https://drive.google.com/uc?id=1qp-l9kJbRfQU1W5wCjOQZi7I3T6jwA37\n",
            "Reusing existing connection to drive.google.com:443.\n",
            "HTTP request sent, awaiting response... 200 OK\n",
            "Length: unspecified [text/html]\n",
            "Saving to: ‘uc?id=1qp-l9kJbRfQU1W5wCjOQZi7I3T6jwA37’\n",
            "\n",
            "\r          uc?id=1qp     [<=>                 ]       0  --.-KB/s               \ruc?id=1qp-l9kJbRfQU     [ <=>                ]   2.20K  --.-KB/s    in 0.002s  \n",
            "\n",
            "2023-05-21 14:14:26 (971 KB/s) - ‘uc?id=1qp-l9kJbRfQU1W5wCjOQZi7I3T6jwA37’ saved [2255]\n",
            "\n"
          ]
        }
      ]
    },
    {
      "cell_type": "code",
      "source": [
        "!python trn.py"
      ],
      "metadata": {
        "colab": {
          "base_uri": "https://localhost:8080/"
        },
        "id": "I9ZRtbZGbkVf",
        "outputId": "f37dba75-ae66-4820-9bac-613ff20b8aa6"
      },
      "execution_count": null,
      "outputs": [
        {
          "output_type": "stream",
          "name": "stdout",
          "text": [
            "*************************************************\n",
            "/content/drive/MyDrive/MRI/mri/model.py:31: UserWarning: `tf.layers.batch_normalization` is deprecated and will be removed in a future version. Please use `tf.keras.layers.BatchNormalization` instead. In particular, `tf.control_dependencies(tf.GraphKeys.UPDATE_OPS)` should not be used (consult the `tf.keras.layers.BatchNormalization` documentation).\n",
            "  xbn=tf.compat.v1.layers.batch_normalization(x,training=trainning,fused=True,name='BN')\n",
            "WARNING:tensorflow:From /usr/local/lib/python3.10/dist-packages/tensorflow/python/util/deprecation.py:648: calling map_fn_v2 (from tensorflow.python.ops.map_fn) with dtype is deprecated and will be removed in a future version.\n",
            "Instructions for updating:\n",
            "Use fn_output_signature instead\n",
            "WARNING:tensorflow:From /usr/local/lib/python3.10/dist-packages/tensorflow/python/util/dispatch.py:1176: to_float (from tensorflow.python.ops.math_ops) is deprecated and will be removed in a future version.\n",
            "Instructions for updating:\n",
            "Use `tf.cast` instead.\n",
            "WARNING:tensorflow:You are casting an input of type complex64 to an incompatible dtype float32.  This will discard the imaginary part and may not be what you intended.\n",
            "WARNING:tensorflow:You are casting an input of type complex64 to an incompatible dtype float32.  This will discard the imaginary part and may not be what you intended.\n",
            "WARNING:tensorflow:You are casting an input of type complex64 to an incompatible dtype float32.  This will discard the imaginary part and may not be what you intended.\n",
            "testing model saved:savedModels/21May_0239pm_5L_1K_50E_AG/modelTst\n",
            "Reading the data. Please wait...\n",
            "Elapsed time: 5.286123 seconds.\n",
            "\n",
            "Successfully read the data from file!\n",
            "Now doing undersampling....\n",
            "Elapsed time: 36.727035 seconds.\n",
            "\n",
            "Successfully undersampled data!\n",
            "WARNING:tensorflow:From /usr/local/lib/python3.10/dist-packages/keras/layers/normalization/batch_normalization.py:581: _colocate_with (from tensorflow.python.framework.ops) is deprecated and will be removed in a future version.\n",
            "Instructions for updating:\n",
            "Colocations handled automatically by placer.\n",
            "WARNING:tensorflow:You are casting an input of type complex64 to an incompatible dtype float32.  This will discard the imaginary part and may not be what you intended.\n",
            "WARNING:tensorflow:You are casting an input of type complex64 to an incompatible dtype float32.  This will discard the imaginary part and may not be what you intended.\n",
            "WARNING:tensorflow:You are casting an input of type complex64 to an incompatible dtype float32.  This will discard the imaginary part and may not be what you intended.\n",
            "training started at 21-May-2023 02:40 pm\n",
            "parameters are: Epochs: 50  BS: 1 nSteps: 18000 nSamples: 360\n",
            "Model meta graph saved in::savedModels/21May_0239pm_5L_1K_50E_AG/model\n",
            "  0% 6/18000 [00:46<36:27:17,  7.29s/it]"
          ]
        }
      ]
    }
  ]
}